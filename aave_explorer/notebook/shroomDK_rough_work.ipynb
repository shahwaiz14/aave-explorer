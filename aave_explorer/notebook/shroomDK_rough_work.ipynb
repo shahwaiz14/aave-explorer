{
 "cells": [
  {
   "cell_type": "code",
   "execution_count": 1,
   "metadata": {},
   "outputs": [],
   "source": [
    "import os\n",
    "from dotenv import load_dotenv\n",
    "\n",
    "import pandas as pd\n",
    "\n",
    "from shroomdk import ShroomDK"
   ]
  },
  {
   "cell_type": "code",
   "execution_count": 2,
   "metadata": {},
   "outputs": [],
   "source": [
    "load_dotenv()\n",
    "# Initialize `ShroomDK` with your API Key\n",
    "sdk = ShroomDK(os.getenv(\"FLIPSIDE_API_KEY\"))"
   ]
  },
  {
   "cell_type": "code",
   "execution_count": 16,
   "metadata": {},
   "outputs": [],
   "source": [
    "def get_aave_price(sdk: ShroomDK) -> float:\n",
    "    sql = f\"\"\"\n",
    "        SELECT * \n",
    "        FROM ethereum.core.fact_hourly_token_prices\n",
    "        WHERE SYMBOL ILIKE 'aave'\n",
    "            AND hour::DATE = CURRENT_DATE\n",
    "        ORDER BY hour DESC\n",
    "        LIMIT 1;\n",
    "        \"\"\"\n",
    "\n",
    "    query_result_set = sdk.query(sql)\n",
    "    return round(query_result_set.records[0][\"price\"], 2)\n",
    "\n",
    "def get_user_top_lending_pools(sdk: ShroomDK, user_id: str, time_interval: int) -> pd.DataFrame:\n",
    "    sql = f\"\"\"\n",
    "        SELECT block_timestamp::DATE AS date,\n",
    "            symbol,\n",
    "            SUM(supplied_usd) AS supplied_usd\n",
    "        FROM flipside_prod_db.aave.deposits\n",
    "        WHERE depositor_address ILIKE '{user_id}'\n",
    "            AND block_timestamp::DATE >= CURRENT_DATE - {time_interval}\n",
    "            AND symbol IS NOT NULL\n",
    "        GROUP BY 1, 2;\n",
    "        \"\"\"\n",
    "    results = sdk.query(sql)\n",
    "    return pd.DataFrame(results.records)\n",
    "\n",
    "\n",
    "def get_hourly_withdrawals_today(sdk: ShroomDK) -> pd.DataFrame:\n",
    "    sql = f\"\"\"\n",
    "        SELECT HOUR(block_timestamp) AS Hour,\n",
    "            COUNT(DISTINCT(tx_id)) AS \"Total Transactions\",\n",
    "            ROUND(SUM(withdrawn_usd)) AS \"Total Withdrawn in USD\"\n",
    "        FROM flipside_prod_db.aave.withdraws\n",
    "        WHERE block_timestamp::DATE = (SELECT MAX(block_timestamp::DATE) FROM flipside_prod_db.aave.withdraws)\n",
    "            AND symbol IS NOT NULL\n",
    "        GROUP BY 1\n",
    "        ORDER BY 1;\n",
    "        \"\"\"\n",
    "    results = sdk.query(sql)\n",
    "    return pd.DataFrame(results.records)"
   ]
  },
  {
   "cell_type": "code",
   "execution_count": 4,
   "metadata": {},
   "outputs": [
    {
     "data": {
      "text/plain": [
       "103.08"
      ]
     },
     "execution_count": 4,
     "metadata": {},
     "output_type": "execute_result"
    }
   ],
   "source": [
    "get_aave_price(sdk)"
   ]
  },
  {
   "cell_type": "code",
   "execution_count": 28,
   "metadata": {},
   "outputs": [],
   "source": [
    "def get_user_latest_borrowing_activity(sdk: ShroomDK, user_id: str, time_interval: int) -> pd.DataFrame:\n",
    "    sql = f\"\"\"\n",
    "        SELECT block_timestamp::DATE AS date,\n",
    "            symbol,\n",
    "            borrowed_usd\n",
    "        FROM flipside_prod_db.aave.borrows\n",
    "        WHERE borrower_address ILIKE '{user_id}'\n",
    "            AND block_timestamp::DATE >= CURRENT_DATE - {time_interval}\n",
    "        ORDER BY 1 DESC \n",
    "        LIMIT 25;\n",
    "        \"\"\"\n",
    "    results = sdk.query(sql)\n",
    "    return pd.DataFrame(results.records)\n",
    "\n",
    "def get_user_latest_borrowing_activity(sdk: ShroomDK, user_id: str, time_interval: int) -> pd.DataFrame:\n",
    "    sql = f\"\"\"\n",
    "        SELECT block_timestamp::DATE AS date,\n",
    "            symbol,\n",
    "            borrowed_usd\n",
    "        FROM flipside_prod_db.aave.borrows\n",
    "        WHERE borrower_address ILIKE '{user_id}'\n",
    "            AND block_timestamp::DATE >= CURRENT_DATE - {time_interval}\n",
    "        ORDER BY 1 DESC \n",
    "        LIMIT 25;\n",
    "        \"\"\"\n",
    "    results = sdk.query(sql)\n",
    "    return pd.DataFrame(results.records)"
   ]
  },
  {
   "cell_type": "code",
   "execution_count": 32,
   "metadata": {},
   "outputs": [
    {
     "data": {
      "text/html": [
       "<div>\n",
       "<style scoped>\n",
       "    .dataframe tbody tr th:only-of-type {\n",
       "        vertical-align: middle;\n",
       "    }\n",
       "\n",
       "    .dataframe tbody tr th {\n",
       "        vertical-align: top;\n",
       "    }\n",
       "\n",
       "    .dataframe thead th {\n",
       "        text-align: right;\n",
       "    }\n",
       "</style>\n",
       "<table border=\"1\" class=\"dataframe\">\n",
       "  <thead>\n",
       "    <tr style=\"text-align: right;\">\n",
       "      <th></th>\n",
       "      <th>date</th>\n",
       "      <th>symbol</th>\n",
       "      <th>borrowed_usd</th>\n",
       "    </tr>\n",
       "  </thead>\n",
       "  <tbody>\n",
       "    <tr>\n",
       "      <th>0</th>\n",
       "      <td>2022-08-07</td>\n",
       "      <td>WETH</td>\n",
       "      <td>34489.031478</td>\n",
       "    </tr>\n",
       "    <tr>\n",
       "      <th>1</th>\n",
       "      <td>2022-08-07</td>\n",
       "      <td>WETH</td>\n",
       "      <td>5097.647092</td>\n",
       "    </tr>\n",
       "    <tr>\n",
       "      <th>2</th>\n",
       "      <td>2022-07-30</td>\n",
       "      <td>WETH</td>\n",
       "      <td>139197.439751</td>\n",
       "    </tr>\n",
       "  </tbody>\n",
       "</table>\n",
       "</div>"
      ],
      "text/plain": [
       "         date symbol   borrowed_usd\n",
       "0  2022-08-07   WETH   34489.031478\n",
       "1  2022-08-07   WETH    5097.647092\n",
       "2  2022-07-30   WETH  139197.439751"
      ]
     },
     "execution_count": 32,
     "metadata": {},
     "output_type": "execute_result"
    }
   ],
   "source": [
    "get_user_latest_borrowing_activity(sdk, \"0x02e1ee540a03b3524c38dd2e298184795dedda32\", 13)"
   ]
  },
  {
   "cell_type": "code",
   "execution_count": null,
   "metadata": {},
   "outputs": [],
   "source": [
    "0xc496a9b328dd69a0c335874f84b70225a23fb2a5\n",
    "0x794f2331f69f9d276a3a006953669cd2fc23ab92"
   ]
  }
 ],
 "metadata": {
  "kernelspec": {
   "display_name": "Python 3 (ipykernel)",
   "language": "python",
   "name": "python3"
  },
  "language_info": {
   "codemirror_mode": {
    "name": "ipython",
    "version": 3
   },
   "file_extension": ".py",
   "mimetype": "text/x-python",
   "name": "python",
   "nbconvert_exporter": "python",
   "pygments_lexer": "ipython3",
   "version": "3.10.5"
  }
 },
 "nbformat": 4,
 "nbformat_minor": 4
}
